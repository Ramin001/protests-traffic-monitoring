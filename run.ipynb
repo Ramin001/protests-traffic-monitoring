{
 "cells": [
  {
   "cell_type": "code",
   "execution_count": null,
   "id": "215388ea",
   "metadata": {},
   "outputs": [],
   "source": [
    "import pytz\n",
    "import os\n",
    "\n",
    "API_key = 'YOUR_API_KEY for distance matrix API'\n",
    "os.chdir('C:/Users/Ramin.Forouzandeh17/Desktop/Iran Data/traffic/codes')\n",
    "execfile('main.py')"
   ]
  }
 ],
 "metadata": {
  "kernelspec": {
   "display_name": "Python 3 (ipykernel)",
   "language": "python",
   "name": "python3"
  },
  "language_info": {
   "codemirror_mode": {
    "name": "ipython",
    "version": 3
   },
   "file_extension": ".py",
   "mimetype": "text/x-python",
   "name": "python",
   "nbconvert_exporter": "python",
   "pygments_lexer": "ipython3",
   "version": "3.9.12"
  }
 },
 "nbformat": 4,
 "nbformat_minor": 5
}
